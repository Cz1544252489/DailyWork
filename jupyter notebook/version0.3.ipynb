{
 "cells": [
  {
   "cell_type": "code",
   "execution_count": 3,
   "id": "08fb3778-ac94-4475-b7a9-61eb8ccaab84",
   "metadata": {},
   "outputs": [],
   "source": [
    "import sys\n",
    "import idx2numpy\n",
    "import pandas as pd\n",
    "import numpy as np\n",
    "import torch\n",
    "import torch.optim as optim\n",
    "import torch.nn as nn\n",
    "import torchvision\n",
    "import torchvision.transforms as transforms"
   ]
  },
  {
   "cell_type": "code",
   "execution_count": 4,
   "id": "fdef5bca-e88d-40cd-860a-511a656e2cca",
   "metadata": {},
   "outputs": [],
   "source": [
    "import sys\n",
    "import numpy as np\n",
    "import pandas as pd\n",
    "import torch\n",
    "\n",
    "def one_hot(label):\n",
    "    # 用于把标签变成one-hot格式\n",
    "    m = len(label)\n",
    "    label_one_hot = torch.zeros([m,10])\n",
    "    for i in range(m):\n",
    "        label_one_hot[i,label[i]] = 1\n",
    "    return label_one_hot\n",
    "\n",
    "def preprocess(image):\n",
    "    image_new = image/255\n",
    "    return image_new\n",
    "\n",
    "def rand_indices():\n",
    "    indices = torch.randperm(20000)\n",
    "    train_size, validation_size = 5000, 5000\n",
    "\n",
    "    train_indices = indices[:train_size]\n",
    "    validation_indices = indices[train_size:(train_size + validation_size)]\n",
    "    test_indices = indices[(train_size + validation_size):]\n",
    "    return train_indices, validation_indices, test_indices\n",
    "\n",
    "def pollute_label(label):\n",
    "    indices = torch.randperm(5000)\n",
    "    polluted_indices = indices[:2500]\n",
    "    for i in polluted_indices:\n",
    "        label[i] = torch.zeros(10).scatter_(0, torch.randint(10, (1,)), 1)\n",
    "    return label\n",
    "\n",
    "def load_data_from_csv(flag):\n",
    "    N = 20000\n",
    "    data = pd.read_csv('mnist/train.csv').to_numpy()\n",
    "    data = torch.from_numpy(data)\n",
    "    image_total = data[1:N+1,1:]\n",
    "    label_total = one_hot(data[:,0])\n",
    "\n",
    "    tr_ind, val_ind, test_ind = rand_indices()\n",
    "    image_train = preprocess(image_total[tr_ind])\n",
    "    image_validation = preprocess(image_total[val_ind])\n",
    "    image_test = preprocess(image_total[test_ind])\n",
    "\n",
    "    if flag==1:\n",
    "        label_train = pollute_label(label_total[tr_ind]).float()\n",
    "    if flag==0:\n",
    "        label_train = label_total[tr_ind].float()\n",
    "    label_validation = label_total[val_ind].float()\n",
    "    label_test = label_total[test_ind].float()\n",
    "    return (image_train, label_train), (image_validation, label_validation), (image_test, label_test)\n"
   ]
  },
  {
   "cell_type": "code",
   "execution_count": 5,
   "id": "25babc8e-b1d5-49f5-9c03-a61aed1f2612",
   "metadata": {},
   "outputs": [],
   "source": [
    "data_tr,data_val,data_test = load_data_from_csv(1)"
   ]
  },
  {
   "cell_type": "code",
   "execution_count": 8,
   "id": "44e75244-a48d-41a1-98dc-eac59a3ad277",
   "metadata": {},
   "outputs": [],
   "source": [
    "from torch.utils.data import DataLoader, TensorDataset\n",
    "\n",
    "# 创建数据集和数据加载器\n",
    "img_tr, lab_tr = data_tr\n",
    "train_dataset = TensorDataset(img_tr)\n",
    "train_loader = DataLoader(train_dataset, batch_size=64, shuffle=True)\n",
    "\n",
    "with torch.no_grad():\n",
    "    for val_img, val_label in DataLoader(TensorDataset(img_val, lab_val), batch_size=64):\n",
    "        val_output = net(val_img)\n",
    "        val_loss += loss_fun2(val_output, val_label).item()"
   ]
  },
  {
   "cell_type": "code",
   "execution_count": null,
   "id": "9bea40c5-a002-45ec-a846-9a09cbeb801c",
   "metadata": {},
   "outputs": [],
   "source": []
  }
 ],
 "metadata": {
  "kernelspec": {
   "display_name": "Python 3 (ipykernel)",
   "language": "python",
   "name": "python3"
  },
  "language_info": {
   "codemirror_mode": {
    "name": "ipython",
    "version": 3
   },
   "file_extension": ".py",
   "mimetype": "text/x-python",
   "name": "python",
   "nbconvert_exporter": "python",
   "pygments_lexer": "ipython3",
   "version": "3.10.12"
  }
 },
 "nbformat": 4,
 "nbformat_minor": 5
}
