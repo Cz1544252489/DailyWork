{
 "cells": [
  {
   "cell_type": "code",
   "execution_count": 1,
   "id": "08fb3778-ac94-4475-b7a9-61eb8ccaab84",
   "metadata": {},
   "outputs": [],
   "source": [
    "import sys\n",
    "import idx2numpy\n",
    "import pandas as pd\n",
    "import numpy as np\n",
    "import torch\n",
    "import torch.optim as optim\n",
    "import torch.nn as nn\n",
    "import torchvision\n",
    "import torchvision.transforms as transforms\n",
    "from torch.utils.data import DataLoader, TensorDataset\n",
    "from load_datasets1 import load_data_from_csv"
   ]
  },
  {
   "cell_type": "code",
   "execution_count": 2,
   "id": "25babc8e-b1d5-49f5-9c03-a61aed1f2612",
   "metadata": {},
   "outputs": [],
   "source": [
    "data_tr,data_val,data_test = load_data_from_csv(1)\n",
    "\n",
    "# 数据加载\n",
    "img_tr, lab_tr = data_tr\n",
    "img_val, lab_val = data_val\n",
    "img_test, lab_test = data_test\n",
    "\n",
    "data_train = DataLoader(TensorDataset(img_tr, lab_tr), batch_size=64)\n",
    "data_validation = DataLoader(TensorDataset(img_val, lab_val), batch_size=64)\n",
    "data_test = DataLoader(TensorDataset(img_test, lab_test), batch_size=64)"
   ]
  },
  {
   "cell_type": "code",
   "execution_count": 48,
   "id": "9bea40c5-a002-45ec-a846-9a09cbeb801c",
   "metadata": {},
   "outputs": [
    {
     "name": "stdout",
     "output_type": "stream",
     "text": [
      "Accuracy of the network on the 10000 test images: 10.22 %\n",
      "loss1=0.008514032891020179,loss2=6.408049553255491,epoch=0\n",
      "loss1=0.007865327315917239,loss2=6.408049553255491,epoch=20\n",
      "loss1=0.007627899385616184,loss2=6.408049553255491,epoch=40\n",
      "loss1=0.007469156803470105,loss2=6.408049553255491,epoch=60\n",
      "loss1=0.007349210473708808,loss2=6.408049553255491,epoch=80\n",
      "loss1=0.0072529267221223565,loss2=6.408049553255491,epoch=100\n",
      "loss1=0.007172756562475115,loss2=6.408049553255491,epoch=120\n",
      "loss1=0.007104326590057462,loss2=6.408049553255491,epoch=140\n",
      "loss1=0.007044849790353328,loss2=6.408049553255491,epoch=160\n",
      "loss1=0.0069924296392593534,loss2=6.408049553255491,epoch=180\n",
      "loss1=0.006945711846230552,loss2=6.408049553255491,epoch=200\n",
      "loss1=0.006903692904440686,loss2=6.408049553255491,epoch=220\n",
      "loss1=0.006865608109207824,loss2=6.408049553255491,epoch=240\n",
      "loss1=0.006830860781762749,loss2=6.408049553255491,epoch=260\n",
      "loss1=0.006798976554954424,loss2=6.408049553255491,epoch=280\n",
      "loss1=0.006769572022464127,loss2=6.408049553255491,epoch=300\n",
      "loss1=0.006742333088954911,loss2=6.408049553255491,epoch=320\n",
      "loss1=0.006716999559383839,loss2=6.408049553255491,epoch=340\n",
      "loss1=0.006693353626551107,loss2=6.408049553255491,epoch=360\n",
      "loss1=0.006671211181813851,loss2=6.408049553255491,epoch=380\n",
      "loss1=0.00665041536949575,loss2=6.408049553255491,epoch=400\n",
      "loss1=0.006630831296555698,loss2=6.408049553255491,epoch=420\n",
      "loss1=0.006612343050958589,loss2=6.408049553255491,epoch=440\n",
      "loss1=0.006594849107693881,loss2=6.408049553255491,epoch=460\n",
      "loss1=0.006578261299058795,loss2=6.408049553255491,epoch=480\n",
      "loss1=0.006562501989724114,loss2=6.408049553255491,epoch=500\n",
      "loss1=0.006547502481611445,loss2=6.408049553255491,epoch=520\n",
      "loss1=0.0065332019090652465,loss2=6.408049553255491,epoch=540\n",
      "loss1=0.006519546223524958,loss2=6.408049553255491,epoch=560\n",
      "loss1=0.006506486965715885,loss2=6.408049553255491,epoch=580\n",
      "loss1=0.006493980881478637,loss2=6.408049553255491,epoch=600\n",
      "loss1=0.0064819885728415105,loss2=6.408049553255491,epoch=620\n",
      "loss1=0.006470475054299459,loss2=6.408049553255491,epoch=640\n",
      "loss1=0.006459408150427043,loss2=6.408049553255491,epoch=660\n",
      "loss1=0.0064487590505741535,loss2=6.408049553255491,epoch=680\n",
      "loss1=0.006438501049811021,loss2=6.408049553255491,epoch=700\n",
      "loss1=0.006428610376920551,loss2=6.408049553255491,epoch=720\n",
      "loss1=0.006419064580788836,loss2=6.408049553255491,epoch=740\n",
      "loss1=0.006409843585966155,loss2=6.408049553255491,epoch=760\n",
      "loss1=0.006400928983930498,loss2=6.408049553255491,epoch=780\n",
      "loss1=0.00639230323699303,loss2=6.408049553255491,epoch=800\n",
      "loss1=0.006383950930088759,loss2=6.408049553255491,epoch=820\n",
      "loss1=0.006375857147946954,loss2=6.408049553255491,epoch=840\n",
      "loss1=0.006368008394958451,loss2=6.408049553255491,epoch=860\n",
      "loss1=0.006360392273822799,loss2=6.408049553255491,epoch=880\n",
      "loss1=0.006352997053647414,loss2=6.408049553255491,epoch=900\n",
      "loss1=0.0063458117823116484,loss2=6.408049553255491,epoch=920\n",
      "loss1=0.0063388264288660135,loss2=6.408049553255491,epoch=940\n",
      "loss1=0.006332031434541568,loss2=6.408049553255491,epoch=960\n",
      "loss1=0.0063254182199481875,loss2=6.408049553255491,epoch=980\n",
      "Accuracy of the network on the 10000 test images: 9.86 %\n"
     ]
    }
   ],
   "source": [
    "## 定义神经网络\n",
    "N = 5000\n",
    "la = torch.rand([N,1],requires_grad=True)\n",
    "\n",
    "class Inner_model(nn.Module):\n",
    "    def __init__(self):\n",
    "        super(Inner_model, self).__init__()\n",
    "        self.fc = nn.Linear(28*28, 10)\n",
    "        self.fc1 = nn.Linear(28*28, 128)\n",
    "        self.fc2 = nn.Linear(128, 64)\n",
    "        self.fc3 = nn.Linear(64, 10)\n",
    "\n",
    "    def forward(self, x):\n",
    "        x = self.fc(x)\n",
    "        return x\n",
    "\n",
    "net = Inner_model()\n",
    "\n",
    "# 定义损失函数和优化器(以后的函数均只用一组数据，然后累加)\n",
    "\n",
    "def lower_function(output, label, la):\n",
    "    crossentropy = nn.CrossEntropyLoss()\n",
    "    loss = crossentropy(output, label)*la\n",
    "    return loss\n",
    "\n",
    "def upper_function(output, label):\n",
    "    crossentropy = nn.CrossEntropyLoss()\n",
    "    loss = crossentropy(output, label)\n",
    "    return loss\n",
    "\n",
    "def inner_loop(net, data_train, lower_function, optimizer):\n",
    "    running_loss = 0.0\n",
    "    net.train()\n",
    "    for i, (image, label) in enumerate(data_train):\n",
    "        optimizer.zero_grad()\n",
    "\n",
    "        hat_label = net(image)\n",
    "\n",
    "        loss = lower_function(hat_label, label, la[i])\n",
    "        running_loss += loss.item()\n",
    "\n",
    "        loss.backward()\n",
    "        optimizer.step()\n",
    "\n",
    "    return running_loss\n",
    "\n",
    "def test(img_test,lab_test,net):\n",
    "    correct = 0\n",
    "    total = img_test.shape[0]\n",
    "    with torch.no_grad():\n",
    "        for i, image in enumerate(img_test, 0):\n",
    "            label = lab_test[i]\n",
    "            outputs = net(image)\n",
    "        \n",
    "            _, predicted = torch.max(outputs, 0)\n",
    "            _, labels = torch.max(label,0)\n",
    "            correct += (predicted == labels).sum().item()\n",
    "\n",
    "    print(f'Accuracy of the network on the 10000 test images: {100 * correct / total} %')\n",
    "\n",
    "\n",
    "\n",
    "#optimizer = optim.Adam(net.parameters(), lr=1e-2)\n",
    "optimizer = optim.SGD(net.parameters(), lr=0.01, momentum=0.9)\n",
    "la_optimizer = optim.Adam([la], lr=1e-4)\n",
    "\n",
    "\n",
    "test(img_test,lab_test,net)\n",
    "# 训练网络\n",
    "T = 1000\n",
    "\n",
    "for epoch in range(T):\n",
    "    running_loss1 = inner_loop(net, data_validation, lower_function, optimizer)\n",
    "\n",
    "#    running_loss2 = 0.0\n",
    "#    for j, (image, label) in enumerate(data_validation):\n",
    "\n",
    "#        hat_label = net(image)\n",
    "\n",
    "#        loss2 = upper_function(hat_label, label)\n",
    "#        running_loss2 += loss2.item()\n",
    "\n",
    "#        loss2.backward()\n",
    "\n",
    "    if epoch % 20 == 0:\n",
    "        print(f'loss1={running_loss1/(i+1)},loss2={running_loss2/(j+1)},epoch={epoch}')\n",
    "\n",
    "\n",
    "\n",
    "# 测试网络\n",
    "test(img_test,lab_test,net)"
   ]
  },
  {
   "cell_type": "code",
   "execution_count": 30,
   "id": "f33ec31f-ab17-44a7-ade2-c722790f133a",
   "metadata": {},
   "outputs": [
    {
     "ename": "TypeError",
     "evalue": "unsupported operand type(s) for /: 'NoneType' and 'int'",
     "output_type": "error",
     "traceback": [
      "\u001b[0;31m---------------------------------------------------------------------------\u001b[0m",
      "\u001b[0;31mTypeError\u001b[0m                                 Traceback (most recent call last)",
      "Cell \u001b[0;32mIn[30], line 1\u001b[0m\n\u001b[0;32m----> 1\u001b[0m a\u001b[38;5;241m=\u001b[39m\u001b[43mla\u001b[49m\u001b[38;5;241;43m.\u001b[39;49m\u001b[43mgrad\u001b[49m\u001b[38;5;241;43m/\u001b[39;49m\u001b[38;5;241;43m5000\u001b[39;49m\n\u001b[1;32m      2\u001b[0m \u001b[38;5;28mprint\u001b[39m((a\u001b[38;5;241m==\u001b[39m\u001b[38;5;241m0\u001b[39m)\u001b[38;5;241m.\u001b[39msum())\n\u001b[1;32m      3\u001b[0m \u001b[38;5;28mprint\u001b[39m(la\u001b[38;5;241m.\u001b[39mshape)\n",
      "\u001b[0;31mTypeError\u001b[0m: unsupported operand type(s) for /: 'NoneType' and 'int'"
     ]
    }
   ],
   "source": [
    "a=la.grad/5000\n",
    "print((a==0).sum())\n",
    "print(la.shape)"
   ]
  },
  {
   "cell_type": "code",
   "execution_count": 9,
   "id": "310fe0d2-d370-4e6a-a31e-b022f213399d",
   "metadata": {},
   "outputs": [
    {
     "name": "stdout",
     "output_type": "stream",
     "text": [
      "tensor([[214.7339],\n",
      "        [218.8986],\n",
      "        [231.5886],\n",
      "        ...,\n",
      "        [  0.0000],\n",
      "        [  0.0000],\n",
      "        [  0.0000]]) torch.Size([5000, 1]) torch.Size([5000, 1])\n"
     ]
    }
   ],
   "source": [
    "print(la.grad,la.grad.shape,la.shape)"
   ]
  },
  {
   "cell_type": "code",
   "execution_count": 16,
   "id": "7d617e1c-4015-4dc0-92a0-972f6bd84d29",
   "metadata": {},
   "outputs": [
    {
     "name": "stdout",
     "output_type": "stream",
     "text": [
      "Parameter containing:\n",
      "tensor([[-0.0024,  0.0348, -0.0058,  ..., -0.0250, -0.0014, -0.0282],\n",
      "        [-0.0261, -0.0337, -0.0311,  ..., -0.0011, -0.0302, -0.0316],\n",
      "        [-0.0220, -0.0117, -0.0098,  ..., -0.0216,  0.0117,  0.0028],\n",
      "        ...,\n",
      "        [-0.0266, -0.0191,  0.0122,  ..., -0.0072,  0.0172, -0.0201],\n",
      "        [-0.0252,  0.0085,  0.0076,  ..., -0.0295,  0.0293, -0.0224],\n",
      "        [-0.0151,  0.0024,  0.0032,  ...,  0.0022,  0.0018, -0.0167]],\n",
      "       requires_grad=True)\n",
      "tensor(17.1720)\n"
     ]
    }
   ],
   "source": [
    "print(net.fc.weight)\n",
    "print(torch.norm(net.fc.weight.grad))"
   ]
  },
  {
   "cell_type": "code",
   "execution_count": null,
   "id": "9cf26c67-1ea4-44b3-bfe6-06a30cb424e8",
   "metadata": {},
   "outputs": [],
   "source": []
  }
 ],
 "metadata": {
  "kernelspec": {
   "display_name": "Python 3 (ipykernel)",
   "language": "python",
   "name": "python3"
  },
  "language_info": {
   "codemirror_mode": {
    "name": "ipython",
    "version": 3
   },
   "file_extension": ".py",
   "mimetype": "text/x-python",
   "name": "python",
   "nbconvert_exporter": "python",
   "pygments_lexer": "ipython3",
   "version": "3.10.12"
  }
 },
 "nbformat": 4,
 "nbformat_minor": 5
}
