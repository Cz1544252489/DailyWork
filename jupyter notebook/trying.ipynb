{
 "cells": [
  {
   "cell_type": "code",
   "execution_count": 63,
   "id": "522cd19d-e9ed-4883-b12c-83d466ede4a6",
   "metadata": {},
   "outputs": [
    {
     "data": {
      "text/plain": [
       "'\\ndef crossentropy(W,b,image,label):\\n    # 计算交叉熵，下一步计划使用torch.nn.CrossEntropyLoss替代\\n    ss = nn.Softmax(1)\\n    hat_label = ss(torch.mm(image,W)+b)\\n    result = -torch.sum(torch.mm(label,torch.t(torch.log(hat_label+1e-5))))\\n    return result\\n\\n'"
      ]
     },
     "execution_count": 63,
     "metadata": {},
     "output_type": "execute_result"
    }
   ],
   "source": [
    "import pandas as pd\n",
    "import numpy as np\n",
    "import torch\n",
    "import torch.optim as optim\n",
    "import torch.nn as nn\n",
    "\n",
    "def one_hot(label):\n",
    "    # 用于把标签变成one-hot格式\n",
    "    m = len(label)\n",
    "    label_one_hot = torch.zeros([m,10])\n",
    "    for i in range(m):\n",
    "        label_one_hot[i,label[i]] = 1\n",
    "    return label_one_hot\n",
    "\n",
    "def load_data(flag,N):\n",
    "    # 用于导入数据\n",
    "    if flag=='train':\n",
    "        test = pd.read_csv('mnist/train.csv').to_numpy()\n",
    "        test = torch.from_numpy(test)\n",
    "        test = test[1:N+1]\n",
    "        label = one_hot(test[:,0]).float()\n",
    "        image = test[:,1:].float()\n",
    "\n",
    "    if flag=='test':\n",
    "        test = pd.read_csv('mnist/test.csv').to_numpy()\n",
    "        test = torch.from_numpy(test)\n",
    "        test = test[1:N+1]\n",
    "        label = one_hot(test[:,0]).float()\n",
    "        image = test[:,1:].float()\n",
    "    return image,label\n",
    "\n",
    "def test(hat_label,label):\n",
    "    ss = nn.Softmax(1)\n",
    "    aab = torch.sum(abs(ss(hat_label)-label),axis=1)\n",
    "    accuracy = torch.sum(aab==0)/N\n",
    "    return accuracy\n",
    "\n",
    "\"\"\"\n",
    "def crossentropy(W,b,image,label):\n",
    "    # 计算交叉熵，下一步计划使用torch.nn.CrossEntropyLoss替代\n",
    "    ss = nn.Softmax(1)\n",
    "    hat_label = ss(torch.mm(image,W)+b)\n",
    "    result = -torch.sum(torch.mm(label,torch.t(torch.log(hat_label+1e-5))))\n",
    "    return result\n",
    "\"\"\""
   ]
  },
  {
   "cell_type": "code",
   "execution_count": 64,
   "id": "31a2b00f-ecb3-4af4-8919-28ee8ae830b9",
   "metadata": {},
   "outputs": [
    {
     "name": "stdout",
     "output_type": "stream",
     "text": [
      "tensor(0.0562)\n",
      "tensor(0.7498)\n",
      "tensor(0.8618)\n",
      "tensor(0.8952)\n",
      "tensor(0.9134)\n",
      "tensor(0.9270)\n",
      "tensor(0.9258)\n",
      "tensor(0.9286)\n",
      "tensor(0.9294)\n",
      "tensor(0.9298)\n",
      "tensor(0.9310)\n",
      "tensor(0.9308)\n",
      "tensor(0.9338)\n",
      "tensor(0.9376)\n",
      "tensor(0.9426)\n",
      "tensor(0.9354)\n",
      "tensor(0.9334)\n",
      "tensor(0.9376)\n",
      "tensor(0.9402)\n",
      "tensor(0.9430)\n",
      "tensor(0.9432)\n",
      "tensor(0.9446)\n",
      "tensor(0.9448)\n",
      "tensor(0.9446)\n",
      "tensor(0.9444)\n",
      "tensor(0.9444)\n",
      "tensor(0.9444)\n",
      "tensor(0.9444)\n",
      "tensor(0.9444)\n",
      "tensor(0.9444)\n"
     ]
    }
   ],
   "source": [
    "p = 28\n",
    "C = 10\n",
    "N = 5000\n",
    "\n",
    "image,label = load_data('train',N)\n",
    "W = torch.rand([p**2,C],requires_grad=True)\n",
    "b = torch.rand([N,C],requires_grad=True)\n",
    "la = torch.rand([N,1],requires_grad=True)\n",
    "CrossEntropy = nn.CrossEntropyLoss()\n",
    "\n",
    "optimizer = optim.Adam([W,b],lr=1e-1)\n",
    "optimizer1 = optim.Adam([la],lr=1e-1)\n",
    "for i in range(300):\n",
    "    optimizer.zero_grad()\n",
    "    hat_label = torch.mm(image,W)+b\n",
    "    loss = CrossEntropy(hat_label, label)\n",
    "    if i % 10 == 0:\n",
    "        print(test(hat_label,label))\n",
    "    loss.backward()\n",
    "    optimizer.step()\n",
    "\n"
   ]
  },
  {
   "cell_type": "code",
   "execution_count": null,
   "id": "1dd95987-cc42-4d05-8cfb-925f6ef7262f",
   "metadata": {},
   "outputs": [],
   "source": []
  }
 ],
 "metadata": {
  "kernelspec": {
   "display_name": "Python 3 (ipykernel)",
   "language": "python",
   "name": "python3"
  },
  "language_info": {
   "codemirror_mode": {
    "name": "ipython",
    "version": 3
   },
   "file_extension": ".py",
   "mimetype": "text/x-python",
   "name": "python",
   "nbconvert_exporter": "python",
   "pygments_lexer": "ipython3",
   "version": "3.10.12"
  }
 },
 "nbformat": 4,
 "nbformat_minor": 5
}
