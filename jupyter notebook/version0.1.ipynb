{
 "cells": [
  {
   "cell_type": "code",
   "execution_count": null,
   "id": "522cd19d-e9ed-4883-b12c-83d466ede4a6",
   "metadata": {},
   "outputs": [],
   "source": [
    "import sys\n",
    "import idx2numpy\n",
    "import pandas as pd\n",
    "import numpy as np\n",
    "import torch\n",
    "import torch.optim as optim\n",
    "import torch.nn as nn\n",
    "from load_datasets import load_data_from_csv,one_hot\n",
    "\n",
    "def acc(W,b,img,lab):\n",
    "    ss = nn.Softmax(1)\n",
    "    hat_label = torch.mm(img,W)+b\n",
    "    sm_hat_label = ss(hat_label)\n",
    "    aab = torch.sum(abs(ss(hat_label)-lab),axis=1)\n",
    "    return torch.sum(abs(aab)<=1e-1)/len(img)\n",
    "\n",
    "def acc0(W,b,img,lab):\n",
    "    ss = nn.Softmax(1)\n",
    "    hat_label = torch.mm(img,W)+b\n",
    "    sm_hat_label=ss(hat_label)\n",
    "    max_sm_hat_label=torch.max(abs(sm_hat_label),1)\n",
    "    sum1=torch.sum(one_hot(max_sm_hat_label.indices)-lab<=1e-3)\n",
    "    return sum1/len(img)\n",
    "\n",
    "def acca(W,b,img,lab):\n",
    "    ss = nn.Softmax(1)\n",
    "    hat_label = torch.mm(img,W)+b\n",
    "    sm_hat_label=ss(hat_label)\n",
    "    max_sm_hat_label=torch.max(abs(sm_hat_label),1)\n",
    "    sum1=torch.all(torch.equal(one_hot(max_sm_hat_label.indices),lab),dim=1)\n",
    "    return sum1/len(img)\n",
    "    \n",
    "def test(W,b,img,lab):\n",
    "    ss = nn.Softmax(1)\n",
    "    img1 = img[:5000]\n",
    "    lab1 = lab[:5000]\n",
    "    img2 = img[5000:]\n",
    "    lab2 = lab[5000:]\n",
    "    acc1 = acc(W,b,img1,lab1)\n",
    "    acc2 = acc(W,b,img2,lab2)\n",
    "    return (acc1+acc2)/2\n"
   ]
  },
  {
   "cell_type": "code",
   "execution_count": null,
   "id": "31a2b00f-ecb3-4af4-8919-28ee8ae830b9",
   "metadata": {},
   "outputs": [],
   "source": [
    "p = 28\n",
    "C = 10\n",
    "N = 5000\n",
    "\n",
    "img_tr, lab_tr, img_val, lab_val, img_test, lab_test = load_data_from_csv(0)\n",
    "\n",
    "W = torch.rand([p**2,C],requires_grad=True)\n",
    "print(W)\n",
    "b = torch.rand([N,C],requires_grad=True)\n",
    "la = torch.rand([N,1],requires_grad=True)\n",
    "CrossEntropy = nn.CrossEntropyLoss()\n",
    "\n",
    "optimizer = optim.Adam([W,b],lr=1e-2)\n",
    "optimizer1 = optim.SGD([la], lr=1e-2, momentum=0.9)\n",
    "\n",
    "lr = 1e-2\n",
    "for k in range(500):\n",
    "    optimizer1.zero_grad()\n",
    "    for i in range(20):\n",
    "        optimizer.zero_grad()\n",
    "        hat_label = torch.mm(img_tr,W)+b\n",
    "        loss1 = CrossEntropy(la*hat_label, lab_tr)\n",
    "        #if i % 20 == 0:\n",
    "            #print(f'loss1={loss1}')\n",
    "        loss1.backward()\n",
    "        optimizer.step()\n",
    "\n",
    "    hat_label2 = torch.mm(img_val,W)+b\n",
    "    loss2 = CrossEntropy(hat_label2, lab_val)+ 1e-3*torch.norm(W,'fro')**2\n",
    "    loss2.backward()\n",
    "    if k % 50 == 0:\n",
    "        print([f'acc={test(W,b,img_test,lab_test)}',f'loss2={loss2}'])\n",
    "    with torch.no_grad():\n",
    "        la -= lr * la.grad\n",
    "    #optimizer1.step() \n"
   ]
  },
  {
   "cell_type": "code",
   "execution_count": null,
   "id": "50053f48-fb0b-4ecd-8485-693d50eca3ab",
   "metadata": {},
   "outputs": [],
   "source": [
    "import torch\n",
    "\n",
    "# 假设 outputs 是你模型的输出, targets 是真实的标签\n",
    "outputs = torch.tensor([[0.1, 0.2, 0.7], [0.7, 0.2, 0.1]])\n",
    "targets = torch.tensor([2, 0])\n",
    "\n",
    "# 获得最大概率对应的类别\n",
    "_, predicted = torch.max(outputs, 1)\n",
    "print(predicted)\n",
    "# 比较预测结果与真实标签\n",
    "correct = (predicted == targets).sum().item()\n",
    "\n",
    "print(f'正确标签数：{correct}')\n",
    "print(f'总标签数：{targets.size(0)}')\n",
    "print(f'准确率：{correct / targets.size(0)}')"
   ]
  },
  {
   "cell_type": "code",
   "execution_count": null,
   "id": "b1b92149-9fcc-4f58-bbd4-c4815921427f",
   "metadata": {},
   "outputs": [],
   "source": [
    "import torch\n",
    "import torchvision.transforms as transforms\n",
    "from PIL import Image\n",
    "import matplotlib.pyplot as plt\n",
    "\n",
    "img_tr, lab_tr, img_val, lab_val, img_test, lab_test = load_data_from_csv()\n",
    "\n",
    "# 看图的部分\n",
    "plt.imshow(img_tr[1].reshape([-1,28]))\n",
    "plt.title(lab_tr[1])"
   ]
  },
  {
   "cell_type": "code",
   "execution_count": null,
   "id": "0e628580-8423-497e-8a5b-a87a6d403a24",
   "metadata": {},
   "outputs": [],
   "source": [
    "len(img_val)"
   ]
  },
  {
   "cell_type": "code",
   "execution_count": null,
   "id": "1b04da8c-dc07-4d77-bf4e-893576eb812a",
   "metadata": {},
   "outputs": [],
   "source": [
    "ss = nn.Softmax(1)\n",
    "hat_label = torch.mm(img_val,W)+b\n",
    "sm_hat_label=ss(hat_label)\n",
    "print(f'sm_hat_label size{sm_hat_label.size()}')\n",
    "max_sm_hat_label=torch.max(abs(sm_hat_label),1)\n",
    "print(f'max_sm_hat_label.indices{max_sm_hat_label.indices.size()}')\n",
    "sum1=torch.sum(abs(one_hot(max_sm_hat_label.indices)-lab_val)<=1e-3)\n",
    "print(f'one_hot(max_sm_hat_label.indices)={one_hot(max_sm_hat_label.indices)}')"
   ]
  },
  {
   "cell_type": "code",
   "execution_count": null,
   "id": "26723e43-9f56-4ec2-9b64-0cdfc3c9bf16",
   "metadata": {},
   "outputs": [],
   "source": [
    "print(torch.sum(torch.sum(abs(one_hot(max_sm_hat_label.indices)-lab_val),1)-2==0))"
   ]
  },
  {
   "cell_type": "code",
   "execution_count": null,
   "id": "89fab6dd-beb2-4bd3-933b-8928aa025104",
   "metadata": {},
   "outputs": [],
   "source": [
    "a=torch.tensor([1==1, 2==2])\n",
    "torch.sum(a)"
   ]
  },
  {
   "cell_type": "code",
   "execution_count": null,
   "id": "ce821d05-01e0-47e2-b7c1-45485cb206eb",
   "metadata": {},
   "outputs": [],
   "source": [
    "W = torch.rand([p**2,C],requires_grad=True)\n",
    "b = torch.rand([N,C],requires_grad=True)\n",
    "la = torch.rand([N,1],requires_grad=True)\n",
    "CrossEntropy = nn.CrossEntropyLoss()\n",
    "optimizer = optim.Adam([W,b],lr=1e-2)\n",
    "\n",
    "for i in range(500):\n",
    "    optimizer.zero_grad()\n",
    "    hat_label = torch.mm(img_tr,W)+b\n",
    "    loss1 = CrossEntropy(la*hat_label, lab_tr)\n",
    "    if i % 50 == 0:\n",
    "        print(f'hat_label={ss(hat_label)},lab_tr={lab_tr}')\n",
    "        print(f'loss1={loss1},acc={acc(W,b,img_val,lab_val)}')\n",
    "    loss1.backward()\n",
    "    optimizer.step()"
   ]
  },
  {
   "cell_type": "code",
   "execution_count": null,
   "id": "a5622461-cb27-4e78-b9d0-2cba6bce3ff0",
   "metadata": {},
   "outputs": [],
   "source": []
  }
 ],
 "metadata": {
  "kernelspec": {
   "display_name": "Python 3 (ipykernel)",
   "language": "python",
   "name": "python3"
  },
  "language_info": {
   "codemirror_mode": {
    "name": "ipython",
    "version": 3
   },
   "file_extension": ".py",
   "mimetype": "text/x-python",
   "name": "python",
   "nbconvert_exporter": "python",
   "pygments_lexer": "ipython3",
   "version": "3.10.12"
  }
 },
 "nbformat": 4,
 "nbformat_minor": 5
}
