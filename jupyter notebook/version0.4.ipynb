{
 "cells": [
  {
   "cell_type": "code",
   "execution_count": 1,
   "id": "cd95a872-aa06-47f8-84e3-5dd03f81927e",
   "metadata": {},
   "outputs": [],
   "source": [
    "import torch\n",
    "import torchvision\n",
    "import torchvision.transforms as transforms\n",
    "from torch.utils.data import DataLoader, Subset, random_split\n",
    "\n",
    "# 数据预处理\n",
    "transform = transforms.Compose([\n",
    "    transforms.ToTensor(),\n",
    "    transforms.Normalize((0.5,), (0.5,))\n",
    "])\n",
    "\n",
    "# 加载完整的 MNIST 数据集\n",
    "full_dataset = torchvision.datasets.MNIST(root='./data', train=True, download=True, transform=transform)\n",
    "\n",
    "# 随机选择 20,000 个样本\n",
    "subset_indices = torch.randperm(len(full_dataset))[:20000]\n",
    "subset = Subset(full_dataset, subset_indices)\n",
    "\n",
    "# 将 20,000 个样本分为 10,000 个测试集和 10,000 个训练+验证集\n",
    "train_val_set, test_set = random_split(subset, [10000, 10000])\n",
    "\n",
    "# 将 10,000 个训练+验证集样本分为 5,000 个训练集和 5,000 个验证集\n",
    "train_set, val_set = random_split(train_val_set, [5000, 5000])\n",
    "\n",
    "# 打乱训练集中的 2,500 个样本的标签\n",
    "train_indices = torch.randperm(len(train_set))[:2500]\n",
    "for idx in train_indices:\n",
    "    train_set.dataset[idx] = (train_set.dataset[idx][0], torch.randint(0, 10, (1,)))\n",
    "\n",
    "# 创建数据加载器\n",
    "trainloader = DataLoader(train_set, batch_size=64, shuffle=True)\n",
    "valloader = DataLoader(val_set, batch_size=64, shuffle=True)\n",
    "testloader = DataLoader(test_set, batch_size=64, shuffle=True)\n"
   ]
  },
  {
   "cell_type": "code",
   "execution_count": 2,
   "id": "a636e72c-698d-4d56-8506-fd04e3d42c07",
   "metadata": {},
   "outputs": [],
   "source": [
    "## 定义神经网络\n",
    "N = 5000\n",
    "la = torch.rand([N,1],requires_grad=True)\n",
    "\n",
    "class Inner_model(nn.Module):\n",
    "    def __init__(self):\n",
    "        super(Inner_model, self).__init__()  \n",
    "        self.fc = nn.Linear(28*28, 10)\n",
    "\n",
    "    def forward(self, x):\n",
    "        x = x.view(-1, 28*28)\n",
    "        x = self.fc(x)\n",
    "        return x\n",
    "\n",
    "net = Inner_model()"
   ]
  },
  {
   "cell_type": "code",
   "execution_count": null,
   "id": "afd5b530-4c93-4b3d-a5b5-a2060a99c335",
   "metadata": {},
   "outputs": [],
   "source": [
    "optimizer = optim.SGD(net.parameters(), lr=0.01, momentum=0.9)\n",
    "# la_optimizer = optim.Adam([la], lr=1e-4)\n",
    "\n",
    "N = 5000\n",
    "la = torch.rand([N,1],requires_grad=True)\n",
    "\n",
    "def lower_function(outputs, labels, la):\n",
    "    crossentropy = nn.CrossEntropyLoss()\n",
    "    loss = crossentropy(outputs, labels)*la\n",
    "    return loss\n",
    "\n",
    "\n",
    "for i, data in enumerate(trainloader, 0):\n",
    "    inputs, labels = data\n",
    "    outputs = net(inputs)\n",
    "    loss = lower_function(outputs, labels, la[i])\n",
    "    loss.backward()\n",
    "    optimizer.step()\n",
    "\n"
   ]
  },
  {
   "cell_type": "code",
   "execution_count": null,
   "id": "183ad66f-fcb1-4909-8be8-afd34939c1f1",
   "metadata": {},
   "outputs": [],
   "source": []
  }
 ],
 "metadata": {
  "kernelspec": {
   "display_name": "Python 3 (ipykernel)",
   "language": "python",
   "name": "python3"
  },
  "language_info": {
   "codemirror_mode": {
    "name": "ipython",
    "version": 3
   },
   "file_extension": ".py",
   "mimetype": "text/x-python",
   "name": "python",
   "nbconvert_exporter": "python",
   "pygments_lexer": "ipython3",
   "version": "3.10.12"
  }
 },
 "nbformat": 4,
 "nbformat_minor": 5
}
