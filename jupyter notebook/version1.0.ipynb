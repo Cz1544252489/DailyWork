{
 "cells": [
  {
   "cell_type": "code",
   "execution_count": 1,
   "id": "281f1e69-5b2a-491a-8be3-2f072cfcd853",
   "metadata": {},
   "outputs": [],
   "source": [
    "# 导入函数\n",
    "import sys\n",
    "import idx2numpy\n",
    "import pandas as pd\n",
    "import numpy as np\n",
    "import torch\n",
    "import torch.optim as optim\n",
    "import torch.nn as nn\n",
    "import torchvision\n",
    "import torchvision.transforms as transforms\n",
    "from torch.utils.data import DataLoader, TensorDataset\n",
    "from load_datasets1 import load_data_from_csv"
   ]
  },
  {
   "cell_type": "code",
   "execution_count": 2,
   "id": "9f3cc2f8-866c-4cc7-a820-fe702aa5d1c1",
   "metadata": {},
   "outputs": [],
   "source": [
    "# 数据加载\n",
    "data_tr,data_val,data_test = load_data_from_csv(1)\n",
    "\n",
    "img_tr, lab_tr = data_tr\n",
    "img_val, lab_val = data_val\n",
    "img_test, lab_test = data_test\n",
    "\n",
    "data_train = DataLoader(TensorDataset(img_tr, lab_tr), batch_size=64)\n",
    "data_validation = DataLoader(TensorDataset(img_val, lab_val), batch_size=64)\n",
    "data_test = DataLoader(TensorDataset(img_test, lab_test), batch_size=64)"
   ]
  },
  {
   "cell_type": "code",
   "execution_count": 4,
   "id": "abb3a2ad-274c-456f-b4bc-5c67abe990c4",
   "metadata": {},
   "outputs": [
    {
     "name": "stdout",
     "output_type": "stream",
     "text": [
      "<generator object Module.parameters at 0x7fe95c1ecf20>\n"
     ]
    }
   ],
   "source": [
    "class Inner_loop(nn.Module):\n",
    "    def __init__(self):\n",
    "        super(Inner_loop, self).__init__()\n",
    "        self.fc = nn.Linear(28*28, 10)\n",
    "\n",
    "    def forward(self, x):\n",
    "        x = self.fc(x)\n",
    "        return x\n",
    "\n",
    "net = Inner_loop()\n"
   ]
  },
  {
   "cell_type": "code",
   "execution_count": 10,
   "id": "19e5ec9c-fa14-4e61-88cb-935573680474",
   "metadata": {},
   "outputs": [
    {
     "name": "stdout",
     "output_type": "stream",
     "text": [
      "Parameter containing:\n",
      "tensor([[-1.8926e-02, -7.6093e-03, -5.3555e-05,  ..., -2.3042e-02,\n",
      "          1.2267e-02, -8.5295e-03],\n",
      "        [-1.3227e-02,  1.0727e-02, -2.4883e-02,  ..., -3.2335e-04,\n",
      "         -2.8712e-02,  1.2922e-02],\n",
      "        [-1.0617e-02, -3.1250e-02, -2.4401e-02,  ..., -6.4037e-03,\n",
      "          1.9805e-02,  2.6385e-02],\n",
      "        ...,\n",
      "        [ 1.2983e-02,  2.7105e-02,  1.8121e-02,  ..., -3.5610e-02,\n",
      "         -2.8037e-02,  2.5187e-02],\n",
      "        [-5.0477e-03,  3.1333e-03,  6.5108e-03,  ..., -4.5259e-03,\n",
      "          1.4404e-02, -1.6881e-04],\n",
      "        [-7.6970e-03, -1.7554e-02, -1.0680e-02,  ...,  6.5995e-03,\n",
      "          3.2392e-03, -2.8010e-02]], requires_grad=True)\n",
      "Parameter containing:\n",
      "tensor([-0.0020,  0.0066, -0.0269, -0.0169, -0.0112,  0.0273,  0.0092,  0.0036,\n",
      "        -0.0344, -0.0128], requires_grad=True)\n"
     ]
    }
   ],
   "source": [
    "for param in net.parameters():\n",
    "    print(param)"
   ]
  },
  {
   "cell_type": "code",
   "execution_count": null,
   "id": "096112c5-3449-4c6c-b14b-9672d10701b2",
   "metadata": {},
   "outputs": [],
   "source": []
  }
 ],
 "metadata": {
  "kernelspec": {
   "display_name": "Python 3 (ipykernel)",
   "language": "python",
   "name": "python3"
  },
  "language_info": {
   "codemirror_mode": {
    "name": "ipython",
    "version": 3
   },
   "file_extension": ".py",
   "mimetype": "text/x-python",
   "name": "python",
   "nbconvert_exporter": "python",
   "pygments_lexer": "ipython3",
   "version": "3.10.12"
  }
 },
 "nbformat": 4,
 "nbformat_minor": 5
}
