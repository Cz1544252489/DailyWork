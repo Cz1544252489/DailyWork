!pip install git+https://github.com/geoopt/geoopt.git
!git clone https://github.com/Cz1544252489/geoopt.git
